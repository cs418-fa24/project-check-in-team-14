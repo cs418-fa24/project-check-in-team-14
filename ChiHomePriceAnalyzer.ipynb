{
 "cells": [
  {
   "cell_type": "markdown",
   "id": "b66839a0-2146-4afe-b11a-fd8e502b6a69",
   "metadata": {},
   "source": [
    "# 🏠 ChiHome Price Analyzer 🏠\n",
    "## Progress Report - Team 14\n",
    "\n",
    "**Team Members:**\n",
    "- Grazvydas Revuckas(GrazGraz)\n",
    "- Jonathan Hung(jonathanhungc)\n",
    "- Dhimitri Dinella(micho96)\n",
    "- Reem Sheikh(rsheikhl8)\n",
    "\n",
    "**GitHub Repository:** [ADD THE LINK]"
   ]
  },
  {
   "cell_type": "markdown",
   "id": "43d5abaa-980e-4cb8-8810-fb043f0a6183",
   "metadata": {
    "jp-MarkdownHeadingCollapsed": true
   },
   "source": [
    "## Project Introduction\n",
    "\n",
    "We are analyzing Chicago home price data from Zillow to assist home buyers/investors in making informed decisions by understanding property value trends across different neighborhoods.\n",
    "\n",
    "Some Questions we are inestigating:\n",
    "\n",
    "1. How have home values changed in different Chicago neighborhoods over the past few years?\n",
    "2. Which neighborhoods have seen the biggest increases in home prices? Which neighborhoods have seen the biggest decreases in home prices?\n",
    "3. Which areas might be good investment opportunities based on price trends?\n",
    "\n"
   ]
  },
  {
   "cell_type": "markdown",
   "id": "311276af-efb9-4a5b-b7f9-3505ce199635",
   "metadata": {},
   "source": [
    "## Changes from Initial Proposal\n",
    "\n",
    "Since our initial project proposal slides, we have simplified our scope to create a more focused and achievable analysis:\n",
    "\n",
    "**Removed from Scope:**\n",
    "- Complex geographical heat maps.\n",
    "- Analysis of property features (bedrooms, bathrooms, square footage).\n",
    "- Both Zillow and Redfin data (focusing only on Zillow for consistency).\n",
    "\n",
    "**Added to Scope:**\n",
    "- Focused analysis on straightforward price trends using Zillow data\n",
    "- Simple, clear visualizations that are easy to interpret\n",
    "- Time series analysis showing price changes over years\n",
    "\n",
    "**Reasoning:**\n",
    "1. **Data Consistency**\n",
    "  - Using Zillows data only makes sure we are using a more consistent and reliable dataset\n",
    "  - Takes away the complexity of merging different data sources\n",
    "\n",
    "2. **Project Feasibility**\n",
    "  - Simplified visualizations ensure we can deliver high-quality analysis within the timeline\n",
    "  - Focusing on key price trends allows for clearer, more meaningful insights\n",
    "\n",
    "3. **Core Value Delivery**\n",
    "  - Despite the simplified scope, our analysis still achieves the main goal of helping people understand neighborhood price trends\n",
    "  - Clear, straightforward, easy to interpret presentations are often more valuable than complex featuresble than complex featureses were made]"
   ]
  },
  {
   "cell_type": "markdown",
   "id": "a73826c5-8a72-429c-bf65-d5497683df20",
   "metadata": {},
   "source": [
    "## Data Cleaning "
   ]
  },
  {
   "cell_type": "code",
   "execution_count": 9,
   "id": "f9433d7a-b138-4cfb-a140-e80241a4c8fb",
   "metadata": {},
   "outputs": [],
   "source": [
    "\n",
    "import pandas as pd\n",
    "import numpy as np\n",
    "\n",
    "df = pd.read_csv('Neighborhood_zhvi_uc_sfrcondo_tier_0.33_0.67_sm_sa_month.csv')\n",
    "\n",
    "chicago_df = df[df['City'] == 'Chicago']\n",
    "\n",
    "date_columns = [col for col in chicago_df.columns if col.startswith('20')]\n",
    "columns_to_keep = ['RegionName', 'City', 'State'] + date_columns\n",
    "clean_df = chicago_df[columns_to_keep]\n",
    "\n",
    "melted_df = pd.melt(clean_df,\n",
    "                    id_vars=['RegionName', 'City', 'State'],\n",
    "                    value_vars=date_columns,\n",
    "                    var_name='Date',\n",
    "                    value_name='Price')\n",
    "\n",
    "melted_df['Date'] = pd.to_datetime(melted_df['Date'])\n",
    "melted_df = melted_df.dropna(subset=['Price'])\n",
    "melted_df = melted_df.sort_values(['RegionName', 'Date'])\n",
    "\n",
    "# Save cleaned data\n",
    "melted_df.to_csv('cleaned_chicago_housing_data.csv', index=False)"
   ]
  },
  {
   "cell_type": "markdown",
   "id": "7718c0b1-d797-4243-8f49-7018149165c4",
   "metadata": {},
   "source": [
    "## Data Cleaning Process\n"
   ]
  },
  {
   "cell_type": "code",
   "execution_count": null,
   "id": "c22790ee-0866-4410-9353-7c1a074455e9",
   "metadata": {},
   "outputs": [],
   "source": []
  },
  {
   "metadata": {},
   "cell_type": "markdown",
   "source": "## Exploratory Data Analysis\n",
   "id": "38598e9e4436b412"
  },
  {
   "metadata": {},
   "cell_type": "markdown",
   "source": "## Visualization\n",
   "id": "b129ff9d6e2ab802"
  },
  {
   "metadata": {},
   "cell_type": "markdown",
   "source": "## ML Analysis\n",
   "id": "f23ffd214b4e86b5"
  },
  {
   "metadata": {},
   "cell_type": "markdown",
   "source": [
    "## Reflection\n",
    "- What is the hardest part of the project that you’ve encountered so far?\n",
    "- What are your initial insights?\n",
    "- Are there any concrete results you can show at this point? If not, why not?\n",
    "- Going forward, what are the current biggest problems you’re facing?\n",
    "- Do you think you are on track with your project? If not, what parts do you need to dedicate more time to?\n",
    "- Given your initial exploration of the data, is it worth proceeding with your project, why? If not, how are you going to change your project and why do you think it’s better than your current results?"
   ],
   "id": "17b910d3ea8de4a1"
  },
  {
   "metadata": {},
   "cell_type": "markdown",
   "source": [
    "## Roles/Coordination\n",
    "- Finding data sources: \n",
    "- Statistical analysis:\n",
    "- Visualization:\n",
    "- Machine learning applications:"
   ],
   "id": "1aeb65d5ee377bd5"
  },
  {
   "metadata": {},
   "cell_type": "markdown",
   "source": "## Next Steps\n",
   "id": "123b7014af1bf3c1"
  }
 ],
 "metadata": {
  "kernelspec": {
   "display_name": "Python 3 (ipykernel)",
   "language": "python",
   "name": "python3"
  },
  "language_info": {
   "codemirror_mode": {
    "name": "ipython",
    "version": 3
   },
   "file_extension": ".py",
   "mimetype": "text/x-python",
   "name": "python",
   "nbconvert_exporter": "python",
   "pygments_lexer": "ipython3",
   "version": "3.12.4"
  }
 },
 "nbformat": 4,
 "nbformat_minor": 5
}
